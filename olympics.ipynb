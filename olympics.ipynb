{
 "metadata": {
  "name": "",
  "signature": "sha256:dc12a946b34cb299fb5f80a5378e29bae26d5ffb9bf9dad8ad0f88c2825d35fd"
 },
 "nbformat": 3,
 "nbformat_minor": 0,
 "worksheets": [
  {
   "cells": [
    {
     "cell_type": "code",
     "collapsed": false,
     "input": [
      "from NewTurtle import Turtle\n",
      "t = Turtle()\n",
      "t.penup();t.backward(60);t.pencolor(\"blue\"); t.pendown();t.circle(25);t.forward(5);t.left(90);t.pencolor(\"yellow\");t.circle(-25);t.right(90);t.penup();\n",
      "t.forward(55);t.pendown();t.pencolor(\"black\");t.circle(25);t.forward(5);t.left(90);t.pencolor(\"green\");t.circle(-25);t.right(90);t.penup();\n",
      "t.forward(55);t.pendown();t.pencolor(\"red\");t.circle(25);"
     ],
     "language": "python",
     "metadata": {},
     "outputs": [],
     "prompt_number": 1
    }
   ],
   "metadata": {}
  }
 ]
}