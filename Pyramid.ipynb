{
 "metadata": {
  "name": "",
  "signature": "sha256:46002d2a50d9329b8132789178f30cf6cd01244e426de01c95d390d1fd8e9192"
 },
 "nbformat": 3,
 "nbformat_minor": 0,
 "worksheets": [
  {
   "cells": [
    {
     "cell_type": "code",
     "collapsed": false,
     "input": [
      "from NewTurtle import Turtle\n",
      "import random\n",
      "turtle = Turtle()\n",
      "turtle.speed(10)\n",
      "turtle.penup()\n",
      "turtle.backward(79)\n",
      "turtle.right(90)\n",
      "turtle.forward(60)\n",
      "turtle.left(90)\n",
      "\n",
      "colours=[\"red\",\"blue\",\"gold\",\"orange\",\"black\",\"pink\",\"green\"]\n",
      "def striangle(depth,base):\n",
      "   turtle.pendown()\n",
      "   p = random.randint(1, 1000)\n",
      "   turtle.pencolor(colours[p%7]);\n",
      "   if depth == 0:\n",
      "      for i in 0,1,2:\n",
      "         turtle.forward(base)\n",
      "         turtle.left(120)\n",
      "   else:\n",
      "      for i in 0,1,2:\n",
      "         striangle(depth-1,base)\n",
      "         turtle.penup()\n",
      "         turtle.forward(base*2**depth)\n",
      "         turtle.left(120)\n",
      "         turtle.pendown()\n",
      "\n",
      "turtle.home\n",
      "striangle(4,10)\n",
      "turtle.home"
     ],
     "language": "python",
     "metadata": {},
     "outputs": [],
     "prompt_number": 1
    }
   ],
   "metadata": {}
  }
 ]
}