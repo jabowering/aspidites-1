{
 "metadata": {
  "name": "",
  "signature": "sha256:c2a5046395d039ea278bbe72af3f5f1ed7243bb24c85273efe817f07c58af4ae"
 },
 "nbformat": 3,
 "nbformat_minor": 0,
 "worksheets": [
  {
   "cells": [
    {
     "cell_type": "code",
     "collapsed": false,
     "input": [
      "from NewTurtle import Turtle\n",
      "t = Turtle();\n",
      "t.speed(5);\n",
      "t.backward(100);\n",
      "t.right(90);\n",
      "t.forward(100);\n",
      "t.left(90);t.forward(100);t.left(90);t.forward(50);t.left(90);t.forward(50);t.penup();t.backward(100);t.right(90);t.backward(50);\n",
      "t.pendown();t.pencolor(\"red\");t.forward(100);t.left(45);t.backward(75);t.right(90);t.forward(75);t.left(45);t.backward(100);t.right(90);\n",
      "t.penup();t.home();t.right(90);t.forward(100); t.right(90);t.forward(100);t.left(90);t.forward(10);t.left(90);t.pendown();t.pencolor(\"purple\");\n",
      "t.forward(260);"
     ],
     "language": "python",
     "metadata": {},
     "outputs": [],
     "prompt_number": 7
    }
   ],
   "metadata": {}
  }
 ]
}