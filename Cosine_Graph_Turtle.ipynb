{
 "metadata": {
  "name": "",
  "signature": "sha256:b391a670cc09958cf0beb6fa9fcebac12ea5ddab0132655d990220c25e0f3328"
 },
 "nbformat": 3,
 "nbformat_minor": 0,
 "worksheets": [
  {
   "cells": [
    {
     "cell_type": "code",
     "collapsed": false,
     "input": [
      "from NewTurtle import Turtle\n",
      "t = Turtle();t.speed(10);\n",
      "t.penup(); t.backward(200);t.pendown();t.pencolor(\"red\");t.circle(-50, 90); t.pencolor(\"black\");t.circle(50, 180);\n",
      "t.pencolor(\"red\");t.circle(-50, 180);t.pencolor(\"black\");t.circle(50, 180);t.left(90);t.pencolor(\"green\");t.forward(350);"
     ],
     "language": "python",
     "metadata": {},
     "outputs": [],
     "prompt_number": 3
    }
   ],
   "metadata": {}
  }
 ]
}