{
 "metadata": {
  "name": "",
  "signature": "sha256:7201b84dc0100d880757c3257ae0c8009f2655232d6b5222710a18268649fa90"
 },
 "nbformat": 3,
 "nbformat_minor": 0,
 "worksheets": [
  {
   "cells": [
    {
     "cell_type": "code",
     "collapsed": false,
     "input": [
      "from NewTurtle import Turtle\n",
      "t = Turtle();t.speed(10);\n",
      "t.penup(); t.backward(200);t.pendown();t.pencolor(\"red\");t.circle(-50, 90); t.pencolor(\"black\");t.circle(50, 180);\n",
      "t.pencolor(\"red\");t.circle(-50, 180);t.pencolor(\"black\");t.circle(50, 180);t.left(90);t.pencolor(\"green\");t.forward(350);"
     ],
     "language": "python",
     "metadata": {},
     "outputs": [],
     "prompt_number": 1
    }
   ],
   "metadata": {}
  }
 ]
}