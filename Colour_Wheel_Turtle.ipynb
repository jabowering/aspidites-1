{
 "metadata": {
  "name": "",
  "signature": "sha256:2d2e24e3e6643fbd274293cc89e7d9a828753fb17319d1e40e38e65b4d5c9a25"
 },
 "nbformat": 3,
 "nbformat_minor": 0,
 "worksheets": [
  {
   "cells": [
    {
     "cell_type": "code",
     "collapsed": false,
     "input": [
      "from NewTurtle import Turtle\n",
      "t = Turtle();\n",
      "t.speed(10)\n",
      "colours=[\"red\",\"blue\",\"yellow\",\"brown\",\"black\",\"purple\",\"green\"]\n",
      "t.penup(); t.left(90); t.forward(200);t.right(90);t.pendown();\n",
      "for i in range (0,18):\n",
      "    t.pencolor(colours[i%7]);\n",
      "    t.right(20);\n",
      "    t.forward(50);"
     ],
     "language": "python",
     "metadata": {},
     "outputs": [],
     "prompt_number": 1
    }
   ],
   "metadata": {}
  }
 ]
}