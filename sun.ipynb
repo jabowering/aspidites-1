{
 "metadata": {
  "name": "",
  "signature": "sha256:8d7628bad284cded2a8b8073d51e140cb2f123a67b44cae0783221d8e3f9942c"
 },
 "nbformat": 3,
 "nbformat_minor": 0,
 "worksheets": [
  {
   "cells": [
    {
     "cell_type": "code",
     "collapsed": false,
     "input": [
      "from NewTurtle import Turtle\n",
      "t = Turtle();\n",
      "t.speed(10)\n",
      "colours=[\"red\",\"yellow\"]\n",
      "for j in range(0,20):\n",
      "    for i in range(0,5):\n",
      "        t.pencolor(colours[i%2]);\n",
      "        t.forward(75);\n",
      "        t.right(144)\n",
      "        t.forward(40)\n",
      "    t.right(20);\n"
     ],
     "language": "python",
     "metadata": {},
     "outputs": [],
     "prompt_number": 1
    }
   ],
   "metadata": {}
  }
 ]
}