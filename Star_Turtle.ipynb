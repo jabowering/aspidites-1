{
 "metadata": {
  "name": "",
  "signature": "sha256:ce621b459c40e3c96ccddae2a4e56bd2f582230b444400a0f06e7dd0ca4bdf8e"
 },
 "nbformat": 3,
 "nbformat_minor": 0,
 "worksheets": [
  {
   "cells": [
    {
     "cell_type": "code",
     "collapsed": false,
     "input": [
      "from NewTurtle import Turtle\n",
      "t = Turtle();\n",
      "x = 5\n",
      "t.speed(10)\n",
      "while x > 0:\n",
      "    t.pencolor(\"blue\");\n",
      "    t.forward(75);\n",
      "    t.right(144)\n",
      "    t.pencolor(\"gold\");\n",
      "    t.forward(40)\n",
      "    x-=1"
     ],
     "language": "python",
     "metadata": {},
     "outputs": [],
     "prompt_number": 5
    }
   ],
   "metadata": {}
  }
 ]
}