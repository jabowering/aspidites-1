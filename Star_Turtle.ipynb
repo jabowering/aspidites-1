{
 "metadata": {
  "name": "",
  "signature": "sha256:33caa3dfbd6d9d94c374a186545012413e7852d185423654e1b299cbee4f4e0b"
 },
 "nbformat": 3,
 "nbformat_minor": 0,
 "worksheets": [
  {
   "cells": [
    {
     "cell_type": "code",
     "collapsed": false,
     "input": [
      "from NewTurtle import Turtle\n",
      "t = Turtle();\n",
      "x = 5\n",
      "t.speed(10)\n",
      "while x > 0:\n",
      "    t.pencolor(\"blue\");\n",
      "    t.forward(75);\n",
      "    t.right(144)\n",
      "    t.pencolor(\"gold\");\n",
      "    t.forward(40)\n",
      "    x-=1"
     ],
     "language": "python",
     "metadata": {},
     "outputs": [],
     "prompt_number": 1
    }
   ],
   "metadata": {}
  }
 ]
}